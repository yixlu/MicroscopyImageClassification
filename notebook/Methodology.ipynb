{
 "cells": [
  {
   "cell_type": "markdown",
   "metadata": {},
   "source": [
    "# Preliminary Settings"
   ]
  },
  {
   "cell_type": "code",
   "execution_count": 1,
   "metadata": {},
   "outputs": [],
   "source": [
    "import os\n",
    "import cv2\n",
    "import matplotlib.pyplot as plt\n",
    "\n",
    "# switch working directory to working directory of main repository \n",
    "os.chdir(\"./..\")"
   ]
  },
  {
   "cell_type": "code",
   "execution_count": 2,
   "metadata": {},
   "outputs": [
    {
     "ename": "ModuleNotFoundError",
     "evalue": "No module named 'julia'",
     "output_type": "error",
     "traceback": [
      "\u001b[0;31m---------------------------------------------------------------------------\u001b[0m",
      "\u001b[0;31mModuleNotFoundError\u001b[0m                       Traceback (most recent call last)",
      "\u001b[0;32m<ipython-input-2-049c2fb466b1>\u001b[0m in \u001b[0;36m<module>\u001b[0;34m\u001b[0m\n\u001b[0;32m----> 1\u001b[0;31m \u001b[0;32mfrom\u001b[0m \u001b[0mcodes\u001b[0m \u001b[0;32mimport\u001b[0m \u001b[0;34m*\u001b[0m\u001b[0;34m\u001b[0m\u001b[0;34m\u001b[0m\u001b[0m\n\u001b[0m\u001b[1;32m      2\u001b[0m \u001b[0;34m\u001b[0m\u001b[0m\n\u001b[1;32m      3\u001b[0m \u001b[0;31m#reorganize_data()\u001b[0m\u001b[0;34m\u001b[0m\u001b[0;34m\u001b[0m\u001b[0;34m\u001b[0m\u001b[0m\n",
      "\u001b[0;32m~/Documents/UCD/Spring 2021/STA 208/MicroscopyImageClassification/codes/__init__.py\u001b[0m in \u001b[0;36m<module>\u001b[0;34m\u001b[0m\n\u001b[1;32m      2\u001b[0m \u001b[0;32mfrom\u001b[0m \u001b[0;34m.\u001b[0m\u001b[0mutils\u001b[0m \u001b[0;32mimport\u001b[0m \u001b[0mload_data\u001b[0m\u001b[0;34m,\u001b[0m \u001b[0mget_channel\u001b[0m\u001b[0;34m\u001b[0m\u001b[0;34m\u001b[0m\u001b[0m\n\u001b[1;32m      3\u001b[0m \u001b[0;32mfrom\u001b[0m \u001b[0;34m.\u001b[0m\u001b[0mimage_preprocessing\u001b[0m \u001b[0;32mimport\u001b[0m \u001b[0mimage_preprocessing\u001b[0m\u001b[0;34m\u001b[0m\u001b[0;34m\u001b[0m\u001b[0m\n\u001b[0;32m----> 4\u001b[0;31m \u001b[0;32mfrom\u001b[0m \u001b[0;34m.\u001b[0m\u001b[0mldb\u001b[0m \u001b[0;32mimport\u001b[0m \u001b[0mLDB_FeatureExtractor\u001b[0m\u001b[0;34m\u001b[0m\u001b[0;34m\u001b[0m\u001b[0m\n\u001b[0m\u001b[1;32m      5\u001b[0m \u001b[0;32mfrom\u001b[0m \u001b[0;34m.\u001b[0m\u001b[0mharalick\u001b[0m \u001b[0;32mimport\u001b[0m \u001b[0mharalick\u001b[0m\u001b[0;34m\u001b[0m\u001b[0;34m\u001b[0m\u001b[0m\n\u001b[1;32m      6\u001b[0m \u001b[0;32mfrom\u001b[0m \u001b[0;34m.\u001b[0m\u001b[0mintensity\u001b[0m \u001b[0;32mimport\u001b[0m \u001b[0mIntensityMeasure\u001b[0m\u001b[0;34m\u001b[0m\u001b[0;34m\u001b[0m\u001b[0m\n",
      "\u001b[0;32m~/Documents/UCD/Spring 2021/STA 208/MicroscopyImageClassification/codes/ldb.py\u001b[0m in \u001b[0;36m<module>\u001b[0;34m\u001b[0m\n\u001b[1;32m      1\u001b[0m \u001b[0;31m# install PyCall from Julia's end\u001b[0m\u001b[0;34m\u001b[0m\u001b[0;34m\u001b[0m\u001b[0;34m\u001b[0m\u001b[0m\n\u001b[0;32m----> 2\u001b[0;31m \u001b[0;32mimport\u001b[0m \u001b[0mjulia\u001b[0m\u001b[0;34m\u001b[0m\u001b[0;34m\u001b[0m\u001b[0m\n\u001b[0m\u001b[1;32m      3\u001b[0m \u001b[0mjulia\u001b[0m\u001b[0;34m.\u001b[0m\u001b[0minstall\u001b[0m\u001b[0;34m(\u001b[0m\u001b[0;34m)\u001b[0m\u001b[0;34m\u001b[0m\u001b[0;34m\u001b[0m\u001b[0m\n\u001b[1;32m      4\u001b[0m \u001b[0;34m\u001b[0m\u001b[0m\n\u001b[1;32m      5\u001b[0m \u001b[0;32mfrom\u001b[0m \u001b[0mjulia\u001b[0m \u001b[0;32mimport\u001b[0m \u001b[0mMain\u001b[0m\u001b[0;34m\u001b[0m\u001b[0;34m\u001b[0m\u001b[0m\n",
      "\u001b[0;31mModuleNotFoundError\u001b[0m: No module named 'julia'"
     ]
    }
   ],
   "source": [
    "from codes import *\n",
    "\n",
    "#reorganize_data()"
   ]
  },
  {
   "cell_type": "markdown",
   "metadata": {},
   "source": [
    "# Load Data"
   ]
  },
  {
   "cell_type": "code",
   "execution_count": 7,
   "metadata": {},
   "outputs": [],
   "source": [
    "(X_train, y_train), (X_valid, y_valid), (X_test, y_test) = load_data()"
   ]
  },
  {
   "cell_type": "code",
   "execution_count": null,
   "metadata": {},
   "outputs": [],
   "source": [
    "# example images\n",
    "example_idx = {}\n",
    "labels = np.unique(y_train)\n",
    "for i in labels:\n",
    "    example_idx[i] = np.where(y_train==i)[0][0]  # tinker with the last index value to experiment with different images"
   ]
  },
  {
   "cell_type": "code",
   "execution_count": null,
   "metadata": {},
   "outputs": [],
   "source": [
    "# function to plot example images\n",
    "def plot_images(data, idx, channels):\n",
    "    mapping = {0: \"cell periphery\", 1: \"cytoplasm\", 2: \"endosome\", 3: \"er\", 4: \"golgi\",\n",
    "               5: \"mitochondrion\", 6: \"nuclear periphery\", 7: \"nucleolus\", 8: \"nucleus\",\n",
    "               9: \"peroxisome\", 10: \"spindle pole\", 11: \"vacuole\"}\n",
    "    fig, ax = plt.subplots(2,6, figsize=(12,5))\n",
    "    if channels == 3:\n",
    "        ax[0,0].imshow(cv2.cvtColor(data[idx[0]],cv2.COLOR_BGR2RGB))\n",
    "        ax[0,0].set_title(mapping[0])\n",
    "        ax[0,1].imshow(cv2.cvtColor(data[idx[1]],cv2.COLOR_BGR2RGB))\n",
    "        ax[0,1].set_title(mapping[1])\n",
    "        ax[0,2].imshow(cv2.cvtColor(data[idx[2]],cv2.COLOR_BGR2RGB))\n",
    "        ax[0,2].set_title(mapping[2])\n",
    "        ax[0,3].imshow(cv2.cvtColor(data[idx[3]],cv2.COLOR_BGR2RGB))\n",
    "        ax[0,3].set_title(mapping[3])\n",
    "        ax[0,4].imshow(cv2.cvtColor(data[idx[4]],cv2.COLOR_BGR2RGB))\n",
    "        ax[0,4].set_title(mapping[4])\n",
    "        ax[0,5].imshow(cv2.cvtColor(data[idx[5]],cv2.COLOR_BGR2RGB))\n",
    "        ax[0,5].set_title(mapping[5])\n",
    "        ax[1,0].imshow(cv2.cvtColor(data[idx[6]],cv2.COLOR_BGR2RGB))\n",
    "        ax[1,0].set_title(mapping[6])\n",
    "        ax[1,1].imshow(cv2.cvtColor(data[idx[7]],cv2.COLOR_BGR2RGB))\n",
    "        ax[1,1].set_title(mapping[7])\n",
    "        ax[1,2].imshow(cv2.cvtColor(data[idx[8]],cv2.COLOR_BGR2RGB))\n",
    "        ax[1,2].set_title(mapping[8])\n",
    "        ax[1,3].imshow(cv2.cvtColor(data[idx[9]],cv2.COLOR_BGR2RGB))\n",
    "        ax[1,3].set_title(mapping[9])\n",
    "        ax[1,4].imshow(cv2.cvtColor(data[idx[10]],cv2.COLOR_BGR2RGB))\n",
    "        ax[1,4].set_title(mapping[10])\n",
    "        ax[1,5].imshow(cv2.cvtColor(data[idx[11]],cv2.COLOR_BGR2RGB))\n",
    "        ax[1,5].set_title(mapping[11])\n",
    "    elif channels == 1:\n",
    "        ax[0,0].imshow(data[idx[0]], cmap=\"gray\")\n",
    "        ax[0,0].set_title(mapping[0])\n",
    "        ax[0,1].imshow(data[idx[1]], cmap=\"gray\")\n",
    "        ax[0,1].set_title(mapping[1])\n",
    "        ax[0,2].imshow(data[idx[2]], cmap=\"gray\")\n",
    "        ax[0,2].set_title(mapping[2])\n",
    "        ax[0,3].imshow(data[idx[3]], cmap=\"gray\")\n",
    "        ax[0,3].set_title(mapping[3])\n",
    "        ax[0,4].imshow(data[idx[4]], cmap=\"gray\")\n",
    "        ax[0,4].set_title(mapping[4])\n",
    "        ax[0,5].imshow(data[idx[5]], cmap=\"gray\")\n",
    "        ax[0,5].set_title(mapping[5])\n",
    "        ax[1,0].imshow(data[idx[6]], cmap=\"gray\")\n",
    "        ax[1,0].set_title(mapping[6])\n",
    "        ax[1,1].imshow(data[idx[7]], cmap=\"gray\")\n",
    "        ax[1,1].set_title(mapping[7])\n",
    "        ax[1,2].imshow(data[idx[8]], cmap=\"gray\")\n",
    "        ax[1,2].set_title(mapping[8])\n",
    "        ax[1,3].imshow(data[idx[9]], cmap=\"gray\")\n",
    "        ax[1,3].set_title(mapping[9])\n",
    "        ax[1,4].imshow(data[idx[10]], cmap=\"gray\")\n",
    "        ax[1,4].set_title(mapping[10])\n",
    "        ax[1,5].imshow(data[idx[11]], cmap=\"gray\")\n",
    "        ax[1,5].set_title(mapping[11])\n",
    "    else:\n",
    "        print(\"Number of channels should be either 1 or 3\")"
   ]
  },
  {
   "cell_type": "markdown",
   "metadata": {},
   "source": [
    "Here's how the original data looks like."
   ]
  },
  {
   "cell_type": "code",
   "execution_count": null,
   "metadata": {},
   "outputs": [],
   "source": [
    "plot_images(X_train, example_idx, 3)"
   ]
  },
  {
   "cell_type": "markdown",
   "metadata": {},
   "source": [
    "# Split Channels"
   ]
  },
  {
   "cell_type": "code",
   "execution_count": 79,
   "metadata": {},
   "outputs": [],
   "source": [
    "# image preprocessing step\n",
    "image_processor = image_preprocessing()\n",
    "\n",
    "# preprocess train data\n",
    "X_raw_g_train,X_raw_r_train = image_processor.split_channels(X_train)\n",
    "X_mask_train,_ = image_processor.ROI()\n",
    "Xn_train = image_processor.image_normalize(option=\"ROI\")\n",
    "\n",
    "# preprocess valid data\n",
    "X_raw_g_valid,X_raw_r_valid = image_processor.split_channels(X_valid)\n",
    "X_mask_valid,_ = image_processor.ROI()\n",
    "Xn_valid = image_processor.image_normalize(option=\"ROI\")\n",
    "\n",
    "# preprocess train data\n",
    "X_raw_g_test,X_raw_r_test = image_processor.split_channels(X_test)\n",
    "X_mask_test,_ = image_processor.ROI()\n",
    "Xn_test = image_processor.image_normalize(option=\"ROI\")"
   ]
  },
  {
   "cell_type": "markdown",
   "metadata": {},
   "source": [
    "Here's how the normalized data look like."
   ]
  },
  {
   "cell_type": "code",
   "execution_count": null,
   "metadata": {},
   "outputs": [],
   "source": [
    "plot_images(Xn_train, example_idx, 1)"
   ]
  },
  {
   "cell_type": "markdown",
   "metadata": {},
   "source": [
    "# Binary mask on Red Channel"
   ]
  },
  {
   "cell_type": "code",
   "execution_count": null,
   "metadata": {},
   "outputs": [],
   "source": []
  },
  {
   "cell_type": "markdown",
   "metadata": {},
   "source": [
    "# Crop ROI on Green Channel"
   ]
  },
  {
   "cell_type": "code",
   "execution_count": null,
   "metadata": {},
   "outputs": [],
   "source": []
  },
  {
   "cell_type": "markdown",
   "metadata": {},
   "source": [
    "# Feature Extraction"
   ]
  },
  {
   "cell_type": "markdown",
   "metadata": {},
   "source": [
    "## Shift-Invariant Feature Transform (SIFT) for Bag of Feature (BoF)"
   ]
  },
  {
   "cell_type": "code",
   "execution_count": null,
   "metadata": {},
   "outputs": [],
   "source": [
    "sift_ = SIFT_FeatureExtractor()\n",
    "Xsift_train = sift_.fit_transform(Xn_train)\n",
    "Xsift_valid = sift_.transform(Xn_valid)"
   ]
  },
  {
   "cell_type": "code",
   "execution_count": null,
   "metadata": {},
   "outputs": [],
   "source": [
    "plot_images(Xsift_train, example_idx, 1)"
   ]
  },
  {
   "cell_type": "markdown",
   "metadata": {},
   "source": [
    "## Local Discriminant Basis (LDB) using Wavelets Transform"
   ]
  },
  {
   "cell_type": "markdown",
   "metadata": {},
   "source": [
    "Local Discriminant Basis is a feature extraction technique developed by N. Saito and R. Coifman in 1995. This algorithm follows the following basic steps:\n",
    "\n",
    "1. Decompose a set of multi-class signals using wavelet packet decomposition. A wavelet packet decomposition decomposes a signal into multiple nodes which resembles a binary tree.\n",
    "2. Based on the decomposed wavelet coefficients, build an energy map based on time-frequency or probability density.\n",
    "3. Using the energy map, compute the discriminant measure and select a basis tree that best discriminates the different classes of signals.\n",
    "4. Based on the selected basis tree, extract the corresponding wavelet coefficients for each signal.\n",
    "5. Compute the discriminant power of each coefficient index. Select the top k set of coefficients to be used as features to be passed onto a classifier such as Linear Discriminant Analysis (LDA) and Classification and Regression Trees (CART).\n",
    "\n",
    "A more in-depth tutorial can be found in the Pluto notebook [here](https://github.com/ShozenD/LDBExperiments). For more information on LDB, please refer to the original paper \"Local Discriminant Basis and their Applications\" by Saito and Coifman [here](https://www.math.ucdavis.edu/~saito/publications/saito_ldb_jmiv.pdf)."
   ]
  },
  {
   "cell_type": "code",
   "execution_count": null,
   "metadata": {},
   "outputs": [],
   "source": [
    "from julia import Main\n",
    "\n",
    "Main.using(\"Wavelets\")\n",
    "Main.using(\"WaveletsExt\")\n",
    "\n",
    "ldb_ = LDB_FeatureExtractor(wt=Main.wavelet(Main.WT.coif4), max_dec)\n",
    "Xldb_train = ldb_.fit_transform(Xn_train)"
   ]
  },
  {
   "cell_type": "markdown",
   "metadata": {},
   "source": [
    "View the best basis for the purpose of discriminating the different classes."
   ]
  },
  {
   "cell_type": "code",
   "execution_count": null,
   "metadata": {},
   "outputs": [],
   "source": [
    "Main.plot_tfbdry(ldb_.tree)"
   ]
  },
  {
   "cell_type": "markdown",
   "metadata": {},
   "source": [
    "View the discriminant power plot, and use the elbow rule to determine the number of features to be used."
   ]
  },
  {
   "cell_type": "code",
   "execution_count": null,
   "metadata": {},
   "outputs": [],
   "source": [
    "plt.plot(np.arange(1,64**2+1), ldb_.DP[ldb_.order])\n",
    "plt.title(\"Sorted discriminant power\")"
   ]
  },
  {
   "cell_type": "markdown",
   "metadata": {},
   "source": [
    "We decided that 100 is a fair amount of features to be extracted. So here we go..."
   ]
  },
  {
   "cell_type": "code",
   "execution_count": null,
   "metadata": {},
   "outputs": [],
   "source": [
    "Xldb_train = ldb_.change_nfeatures(Xldb_train, 100)\n",
    "Xldb_valid = ldb_.transform(Xn_valid)"
   ]
  },
  {
   "cell_type": "markdown",
   "metadata": {},
   "source": [
    "## Stationary Wavelet Transform (SWT) Based Feature Extractor"
   ]
  },
  {
   "cell_type": "markdown",
   "metadata": {},
   "source": [
    "**Note:** This method is referenced from Qayyum et al.'s \"Facial Expression Recognition Using Stationary Wavelet Transform Features\".\n",
    "\n",
    "Another method of feature extraction is using stationary wavelet transforms (SWT). Unlike its wavelet transform counterpart, SWT does not perform downsampling, ie. the decomposed images have the exact same shape as the original signal. Therefore, the SWT is considered as a redundant transform. \n",
    "\n",
    "Since our images are decomposed into Approximation coefficients and Horizontal, Vertical and Diagonal coefficients, the total number of coefficients of the decomposed images is 4 times the number of the original image. The number of coefficients increases by a multiple of 4 if we decide to further decompose our image into more levels. For the sake of speed and efficiency, we will not pursue any decomposition beyond the first level.\n",
    "\n",
    "**SWT for Image Classification**\n",
    "\n",
    "For the purpose of image classification, incorporating SWT into our model means that we follow the steps below:\n",
    "\n",
    "1. **1 level of SWT decomposition of each image.** As mentioned previously, we will only compute one level of decomposition for each image. This will lead to us obtaining the approximate (`cA`), horizontal detail (`cH`), vertical detail (`cV`), and diagonal detail (`cD`) coefficients.\n",
    "2. **Compute the Discrete Cosine Transform (DCT) on each set of coefficients.** To reduce the size of feature coefficients, $8 \\times 8$ block DCT is applied to the `cH`, `cV`, and `cD` coefficients only. Based on Qayyum et al's paper, the DCT applied to each block is calculated as\n",
    "$$\n",
    "X(u,v) = \\frac{C(u) C(v)}{4} \\sum_{m=0}{7} \\sum_{n=0}{7} x[m,n] \\cos(\\frac{(2m+1)u\\pi}{16}) \\cos(\\frac{(2n+1)v\\pi}{16})\n",
    "$$\n",
    "where\n",
    "$$\n",
    "C(u) = \\begin{cases} \\frac{1}{\\sqrt{2}}, & u=0 \\\\ 1, & 1\\leq u \\leq 7 \\end{cases}, C(v) = \\begin{cases} \\frac{1}{\\sqrt{2}}, & v=0 \\\\ 1, & 1\\leq v \\leq 7 \\end{cases}\n",
    "$$\n",
    "This can be done using the `scipy.fftpack.dct` function and setting `type=2` and `norm=\"ortho\"`.\n",
    "3. **Reshape the results from step 2 into 1D vectors.**\n",
    "4. **Fit the result from step 4 into a classifier.**\n",
    "\n",
    "For the prediction step, we have the following pipeline:\n",
    "\n",
    "1. **1 level of SWT decomposition of each image.**\n",
    "2. **Compute the Discrete Cosine Transform (DCT) on each set of coefficients.**\n",
    "3. **Reshape the results from step 2 into 1D vectors.**\n",
    "4. **Fit the result from step 4 into a classifier.**\n",
    "\n",
    "*Note: Interestingly, Qayyum et al did not use the approximation coefficients in the image classification process. Whether that can have some drastic effect remains to be seen. Maybe at the end of the day we apply SIFT on the approximation coefficients?*\n",
    "\n",
    "**Pros:**\n",
    "\n",
    "* SWT is shift invariant, which can be important when it comes to feature extraction in cell images.\n",
    "\n",
    "**Cons:**\n",
    "\n",
    "* Due to its redundant nature, the SWT is significantly less efficient that the DWT, and this may pose a problem with the large number of images that we have."
   ]
  },
  {
   "cell_type": "markdown",
   "metadata": {},
   "source": [
    "#### Stationary Wavelet Transform"
   ]
  },
  {
   "cell_type": "code",
   "execution_count": null,
   "metadata": {
    "scrolled": true
   },
   "outputs": [],
   "source": [
    "import pywt\n",
    "\n",
    "# play around with the images and wavelets to observe the effect of SWT\n",
    "# also try out with contrast-adjusted images\n",
    "im = Xn_train[example_idx[0]]\n",
    "wt = \"Haar\"\n",
    "\n",
    "cA, (cH, cV, cD) = pywt.swt2(im, wt, 1, 0, trim_approx=True)\n",
    "\n",
    "fig, ax = plt.subplots(2,2, figsize=(6,6))\n",
    "ax[0,0].imshow(cA, cmap=\"gray\")\n",
    "ax[0,0].set_title(\"Approx coef. (LL)\")\n",
    "ax[0,1].imshow(cH, cmap=\"gray\")\n",
    "ax[0,1].set_title(\"Detail coef. (LH)\")\n",
    "ax[1,0].imshow(cV, cmap=\"gray\")\n",
    "ax[1,0].set_title(\"Detail coef. (HL)\")\n",
    "ax[1,1].imshow(cD, cmap=\"gray\")\n",
    "ax[1,1].set_title(\"Detail coef. (HH)\");"
   ]
  },
  {
   "cell_type": "markdown",
   "metadata": {},
   "source": [
    "#### Discrete Cosine Transform"
   ]
  },
  {
   "cell_type": "code",
   "execution_count": null,
   "metadata": {},
   "outputs": [],
   "source": [
    "from scipy.fftpack import dct\n",
    "\n",
    "result = []\n",
    "for mat in [cH, cV, cD]:\n",
    "    dmat = dct(dct(mat, 2, axis=0, norm=\"ortho\"), 2, axis=1, norm=\"ortho\")\n",
    "    result += [dmat[::8, ::8]]\n",
    "\n",
    "# plotting heatmap of results from DCT\n",
    "fig, ax = plt.subplots(1,3)\n",
    "ax[0].imshow(result[0])\n",
    "ax[1].imshow(result[1])\n",
    "ax[2].imshow(result[2])"
   ]
  },
  {
   "cell_type": "code",
   "execution_count": null,
   "metadata": {},
   "outputs": [],
   "source": [
    "swt_ = SWT_FeatureExtractor(wt=\"coif4\")\n",
    "Xswt_train = swt_.fit_transform(Xn_train)"
   ]
  },
  {
   "cell_type": "markdown",
   "metadata": {},
   "source": [
    "## Haralick texture features based on GLCM (gray level co-occurrence matrix)"
   ]
  },
  {
   "cell_type": "code",
   "execution_count": 82,
   "metadata": {},
   "outputs": [],
   "source": [
    "error = []\n",
    "for (i,img) in enumerate(X_mask_train):\n",
    "    if len(np.unique(img)) != 2:\n",
    "        error += [i]"
   ]
  },
  {
   "cell_type": "code",
   "execution_count": 100,
   "metadata": {},
   "outputs": [
    {
     "data": {
      "text/plain": [
       "([1.628662109375,\n",
       "  1.515869140625,\n",
       "  1.838134765625,\n",
       "  1.798095703125,\n",
       "  11.61572265625,\n",
       "  9.57275390625,\n",
       "  19.2685546875,\n",
       "  1.31298828125,\n",
       "  1.849365234375,\n",
       "  2.50048828125,\n",
       "  1.821044921875,\n",
       "  2.46728515625,\n",
       "  2.424560546875,\n",
       "  1.826171875,\n",
       "  2.524658203125,\n",
       "  2.272705078125,\n",
       "  2.46484375,\n",
       "  2.1708984375,\n",
       "  2.333740234375,\n",
       "  2.28857421875,\n",
       "  2.337890625,\n",
       "  2.336181640625,\n",
       "  1.969482421875,\n",
       "  1.935791015625,\n",
       "  1.973876953125,\n",
       "  1.328857421875,\n",
       "  1.846435546875,\n",
       "  3.4921875,\n",
       "  3.542724609375,\n",
       "  3.5966796875,\n",
       "  1.266845703125,\n",
       "  1.64404296875,\n",
       "  1.53173828125,\n",
       "  1.495849609375,\n",
       "  1.506103515625,\n",
       "  4.263916015625,\n",
       "  7.39501953125,\n",
       "  1.77734375,\n",
       "  1.525390625,\n",
       "  1.496337890625,\n",
       "  1.3974609375,\n",
       "  1.4736328125,\n",
       "  1.428955078125,\n",
       "  1.5009765625,\n",
       "  1.5458984375,\n",
       "  1.357421875,\n",
       "  1.7421875,\n",
       "  1.702392578125,\n",
       "  1.75927734375,\n",
       "  1.85009765625,\n",
       "  1.405517578125,\n",
       "  1.57275390625,\n",
       "  1.736328125,\n",
       "  1.781494140625,\n",
       "  1.68896484375,\n",
       "  1.758544921875,\n",
       "  1.738525390625,\n",
       "  1.773193359375,\n",
       "  1.78515625,\n",
       "  1.8525390625,\n",
       "  1.751953125,\n",
       "  1.79736328125],\n",
       " [1.363525390625,\n",
       "  1.285888671875,\n",
       "  1.941650390625,\n",
       "  1.8447265625,\n",
       "  1.369873046875,\n",
       "  1.37451171875,\n",
       "  9.7646484375,\n",
       "  1.917236328125,\n",
       "  1.90283203125,\n",
       "  1.9638671875,\n",
       "  1.833984375,\n",
       "  1.90576171875,\n",
       "  1.915283203125,\n",
       "  1.8837890625,\n",
       "  3.195068359375,\n",
       "  1.867919921875,\n",
       "  1.900146484375,\n",
       "  1.844970703125,\n",
       "  1.906005859375,\n",
       "  1.974853515625,\n",
       "  1.939453125,\n",
       "  1.84619140625,\n",
       "  1.8623046875,\n",
       "  1.897705078125,\n",
       "  1.953857421875,\n",
       "  1.947509765625,\n",
       "  1.944580078125,\n",
       "  3.132568359375,\n",
       "  3.177490234375,\n",
       "  3.13037109375,\n",
       "  1.37158203125,\n",
       "  2.3544921875,\n",
       "  3.23681640625,\n",
       "  3.148681640625,\n",
       "  3.224609375,\n",
       "  3.181396484375,\n",
       "  3.085693359375,\n",
       "  1.306884765625,\n",
       "  1.9150390625,\n",
       "  1.864013671875,\n",
       "  1.327392578125,\n",
       "  1.904541015625,\n",
       "  1.827392578125,\n",
       "  1.935791015625,\n",
       "  1.970458984375,\n",
       "  1.87548828125,\n",
       "  1.925048828125,\n",
       "  1.882568359375,\n",
       "  1.87744140625,\n",
       "  1.919677734375,\n",
       "  1.309814453125,\n",
       "  1.2685546875,\n",
       "  1.860595703125,\n",
       "  1.885009765625,\n",
       "  1.924072265625,\n",
       "  1.89990234375,\n",
       "  1.899658203125,\n",
       "  1.87548828125,\n",
       "  1.93212890625,\n",
       "  1.922607421875,\n",
       "  1.9462890625,\n",
       "  1.941162109375])"
      ]
     },
     "execution_count": 100,
     "metadata": {},
     "output_type": "execute_result"
    }
   ],
   "source": [
    "error_mean_g=[]\n",
    "error_mean_r=[]\n",
    "for (i,ind) in enumerate(error):\n",
    "    error_mean_g += [X_train[error[i]][:,:,1].mean()]\n",
    "    error_mean_r += [X_train[error[i]][:,:,2].mean()]\n",
    "error_mean_g, error_mean_r"
   ]
  },
  {
   "cell_type": "code",
   "execution_count": 81,
   "metadata": {},
   "outputs": [
    {
     "ename": "AssertionError",
     "evalue": "Mask is not binary.",
     "output_type": "error",
     "traceback": [
      "\u001b[0;31m---------------------------------------------------------------------------\u001b[0m",
      "\u001b[0;31mAssertionError\u001b[0m                            Traceback (most recent call last)",
      "\u001b[0;32m<ipython-input-81-0c2e9afef626>\u001b[0m in \u001b[0;36m<module>\u001b[0;34m\u001b[0m\n\u001b[1;32m      1\u001b[0m \u001b[0;31m# Intensity measurements\u001b[0m\u001b[0;34m\u001b[0m\u001b[0;34m\u001b[0m\u001b[0;34m\u001b[0m\u001b[0m\n\u001b[0;32m----> 2\u001b[0;31m \u001b[0mintensity\u001b[0m \u001b[0;34m=\u001b[0m \u001b[0mIntensityMeasure\u001b[0m\u001b[0;34m(\u001b[0m\u001b[0mmask\u001b[0m\u001b[0;34m=\u001b[0m\u001b[0mX_mask_train\u001b[0m\u001b[0;34m)\u001b[0m\u001b[0;34m\u001b[0m\u001b[0;34m\u001b[0m\u001b[0m\n\u001b[0m\u001b[1;32m      3\u001b[0m \u001b[0mintensity\u001b[0m\u001b[0;34m.\u001b[0m\u001b[0mfit\u001b[0m\u001b[0;34m(\u001b[0m\u001b[0mX_raw_g_train\u001b[0m\u001b[0;34m)\u001b[0m\u001b[0;34m\u001b[0m\u001b[0;34m\u001b[0m\u001b[0m\n\u001b[1;32m      4\u001b[0m \u001b[0mintensity_features\u001b[0m \u001b[0;34m=\u001b[0m \u001b[0mintensity\u001b[0m\u001b[0;34m.\u001b[0m\u001b[0mtransform\u001b[0m\u001b[0;34m(\u001b[0m\u001b[0mX_raw_g_train\u001b[0m\u001b[0;34m)\u001b[0m\u001b[0;34m\u001b[0m\u001b[0;34m\u001b[0m\u001b[0m\n\u001b[1;32m      5\u001b[0m \u001b[0;31m# Haralick texture features\u001b[0m\u001b[0;34m\u001b[0m\u001b[0;34m\u001b[0m\u001b[0;34m\u001b[0m\u001b[0m\n",
      "\u001b[0;32m~/Documents/UCD/Spring 2021/STA 208/MicroscopyImageClassification/codes/intensity.py\u001b[0m in \u001b[0;36m__init__\u001b[0;34m(self, mask)\u001b[0m\n\u001b[1;32m     15\u001b[0m         \u001b[0;32mif\u001b[0m \u001b[0mmask\u001b[0m\u001b[0;34m:\u001b[0m\u001b[0;34m\u001b[0m\u001b[0;34m\u001b[0m\u001b[0m\n\u001b[1;32m     16\u001b[0m             \u001b[0;32mfor\u001b[0m \u001b[0;34m(\u001b[0m\u001b[0mi\u001b[0m\u001b[0;34m,\u001b[0m\u001b[0mm\u001b[0m\u001b[0;34m)\u001b[0m \u001b[0;32min\u001b[0m \u001b[0menumerate\u001b[0m\u001b[0;34m(\u001b[0m\u001b[0mmask\u001b[0m\u001b[0;34m)\u001b[0m\u001b[0;34m:\u001b[0m\u001b[0;34m\u001b[0m\u001b[0;34m\u001b[0m\u001b[0m\n\u001b[0;32m---> 17\u001b[0;31m                 \u001b[0;32massert\u001b[0m \u001b[0mlen\u001b[0m\u001b[0;34m(\u001b[0m\u001b[0mnp\u001b[0m\u001b[0;34m.\u001b[0m\u001b[0munique\u001b[0m\u001b[0;34m(\u001b[0m\u001b[0mm\u001b[0m\u001b[0;34m)\u001b[0m\u001b[0;34m)\u001b[0m \u001b[0;34m==\u001b[0m \u001b[0;36m2\u001b[0m\u001b[0;34m,\u001b[0m \u001b[0;34m\"Mask is not binary.\"\u001b[0m\u001b[0;34m\u001b[0m\u001b[0;34m\u001b[0m\u001b[0m\n\u001b[0m\u001b[1;32m     18\u001b[0m         \u001b[0mself\u001b[0m\u001b[0;34m.\u001b[0m\u001b[0mmask\u001b[0m\u001b[0;34m=\u001b[0m\u001b[0mmask\u001b[0m\u001b[0;34m\u001b[0m\u001b[0;34m\u001b[0m\u001b[0m\n\u001b[1;32m     19\u001b[0m \u001b[0;34m\u001b[0m\u001b[0m\n",
      "\u001b[0;31mAssertionError\u001b[0m: Mask is not binary."
     ]
    }
   ],
   "source": [
    "# Intensity measurements \n",
    "intensity = IntensityMeasure(mask=X_mask_train)\n",
    "intensity.fit(X_raw_g_train)\n",
    "intensity_features = intensity.transform(X_raw_g_train)\n",
    "# Haralick texture features\n",
    "har = haralick(distance = np.arange(1,7,1))\n",
    "har.fit(Xn_train)\n",
    "har_features = har.transform(Xn_train)"
   ]
  },
  {
   "cell_type": "markdown",
   "metadata": {},
   "source": [
    "## Scattering transform Based Feature Extractor"
   ]
  },
  {
   "cell_type": "code",
   "execution_count": 75,
   "metadata": {},
   "outputs": [],
   "source": [
    "from codes.utils import *\n",
    "from codes.image_preprocessing import *\n",
    "from codes.scattering_transform import *\n",
    "from codes.haralick import *\n",
    "from codes.intensity import *"
   ]
  },
  {
   "cell_type": "code",
   "execution_count": 11,
   "metadata": {},
   "outputs": [],
   "source": [
    "st = scattering_transform(J=3,shape=(64,64),L=4)\n",
    "st_features = st.fit_transform(Xn_train)"
   ]
  },
  {
   "cell_type": "code",
   "execution_count": 15,
   "metadata": {},
   "outputs": [],
   "source": [
    "import numpy as np\n",
    "np.savetxt(\"st_features_J3L4.csv\", st_features, delimiter=\",\")"
   ]
  },
  {
   "cell_type": "markdown",
   "metadata": {},
   "source": [
    "## Wavelets Scattering"
   ]
  },
  {
   "cell_type": "markdown",
   "metadata": {},
   "source": [
    "# Dimension Reduction"
   ]
  },
  {
   "cell_type": "markdown",
   "metadata": {},
   "source": [
    "## Scattering transform _PCA"
   ]
  },
  {
   "cell_type": "code",
   "execution_count": 47,
   "metadata": {},
   "outputs": [],
   "source": [
    "from sklearn.preprocessing import StandardScaler\n",
    "from sklearn.decomposition import PCA\n",
    "from sklearn.pipeline import Pipeline, FeatureUnion\n",
    "import matplotlib.transforms as transforms"
   ]
  },
  {
   "cell_type": "code",
   "execution_count": 19,
   "metadata": {},
   "outputs": [],
   "source": [
    "# PCA pipeline\n",
    "pca_pipeline = Pipeline(steps=[('standardizer',StandardScaler()),('PCA',PCA())])\n",
    "st_features_pc = pca_pipeline.fit_transform(st_features)"
   ]
  },
  {
   "cell_type": "code",
   "execution_count": 73,
   "metadata": {},
   "outputs": [
    {
     "data": {
      "image/png": "[encoded data removed]",
      "text/plain": [
       "<Figure size 432x288 with 1 Axes>"
      ]
     },
     "metadata": {
      "needs_background": "light"
     },
     "output_type": "display_data"
    }
   ],
   "source": [
    "# Explained variance\n",
    "cum_explained_var=np.cumsum(pca_pipeline['PCA'].explained_variance_ratio_)\n",
    "plt.plot(range(1,123),cum_explained_var)\n",
    "plt.ylim((0.61,1.02))\n",
    "plt.xlim((-3,125))\n",
    "plt.xlabel(\"Number of principle components\")\n",
    "plt.ylabel(\"Cumulative explained variance ratio\")\n",
    "thres1 = np.where(cum_explained_var>=0.9)[0][0]\n",
    "thres2 = np.where(cum_explained_var>=0.95)[0][0]\n",
    "thres3 = np.where(cum_explained_var>=0.99)[0][0]\n",
    "plt.vlines(thres1+1,0.61,cum_explained_var[thres1],linestyles='dashed',colors='red')\n",
    "plt.vlines(thres2+1,0.61,cum_explained_var[thres2],linestyles='dashed',colors='red')\n",
    "plt.vlines(thres3+1,0.61,cum_explained_var[thres3],linestyles='dashed',colors='red')\n",
    "plt.xticks(list([0,20,40,60,80,100,120])+[thres1+1,thres2+1,thres3+1])\n",
    "plt.hlines(cum_explained_var[thres1],-3,thres1+1,linestyles='dashed',colors='red')\n",
    "plt.hlines(cum_explained_var[thres2],-3,thres2+1,linestyles='dashed',colors='red')\n",
    "_=plt.hlines(cum_explained_var[thres3],-3,thres3+1,linestyles='dashed',colors='red')"
   ]
  },
  {
   "cell_type": "markdown",
   "metadata": {},
   "source": [
    "* First 6,9, and 31 principle components explained for over 90%,95%, and 99% of total variance respectively."
   ]
  },
  {
   "cell_type": "markdown",
   "metadata": {},
   "source": [
    "# Model Fitting"
   ]
  },
  {
   "cell_type": "markdown",
   "metadata": {},
   "source": [
    "## SIFT Based Model"
   ]
  },
  {
   "cell_type": "code",
   "execution_count": null,
   "metadata": {},
   "outputs": [],
   "source": []
  },
  {
   "cell_type": "markdown",
   "metadata": {},
   "source": [
    "## LDB Based Model"
   ]
  },
  {
   "cell_type": "code",
   "execution_count": null,
   "metadata": {},
   "outputs": [],
   "source": []
  },
  {
   "cell_type": "markdown",
   "metadata": {},
   "source": [
    "## SWT Based Model"
   ]
  },
  {
   "cell_type": "code",
   "execution_count": null,
   "metadata": {},
   "outputs": [],
   "source": []
  },
  {
   "cell_type": "markdown",
   "metadata": {},
   "source": [
    "## Haralick Based Model"
   ]
  },
  {
   "cell_type": "code",
   "execution_count": null,
   "metadata": {},
   "outputs": [],
   "source": []
  },
  {
   "cell_type": "markdown",
   "metadata": {},
   "source": [
    "## SURF Based Model"
   ]
  },
  {
   "cell_type": "code",
   "execution_count": null,
   "metadata": {},
   "outputs": [],
   "source": []
  },
  {
   "cell_type": "markdown",
   "metadata": {},
   "source": [
    "## Wavelets Scattering Based Model"
   ]
  },
  {
   "cell_type": "code",
   "execution_count": null,
   "metadata": {},
   "outputs": [],
   "source": []
  }
 ],
 "metadata": {
  "kernelspec": {
   "display_name": "Python 3",
   "language": "python",
   "name": "python3"
  },
  "language_info": {
   "codemirror_mode": {
    "name": "ipython",
    "version": 3
   },
   "file_extension": ".py",
   "mimetype": "text/x-python",
   "name": "python",
   "nbconvert_exporter": "python",
   "pygments_lexer": "ipython3",
   "version": "3.7.10"
  },
  "varInspector": {
   "cols": {
    "lenName": 16,
    "lenType": 16,
    "lenVar": 40
   },
   "kernels_config": {
    "python": {
     "delete_cmd_postfix": "",
     "delete_cmd_prefix": "del ",
     "library": "var_list.py",
     "varRefreshCmd": "print(var_dic_list())"
    },
    "r": {
     "delete_cmd_postfix": ") ",
     "delete_cmd_prefix": "rm(",
     "library": "var_list.r",
     "varRefreshCmd": "cat(var_dic_list()) "
    }
   },
   "position": {
    "height": "248.722px",
    "left": "1375.45px",
    "right": "20px",
    "top": "120px",
    "width": "350px"
   },
   "types_to_exclude": [
    "module",
    "function",
    "builtin_function_or_method",
    "instance",
    "_Feature"
   ],
   "window_display": false
  }
 },
 "nbformat": 4,
 "nbformat_minor": 4
}
